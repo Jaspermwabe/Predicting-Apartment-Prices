{
 "cells": [
  {
   "cell_type": "markdown",
   "metadata": {},
   "source": [
    "<font size=\"+4\"><strong> Predicting Apartment Price</strong></font>"
   ]
  },
  {
   "cell_type": "code",
   "execution_count": 36,
   "metadata": {},
   "outputs": [],
   "source": [
    "import warnings\n",
    "from glob import glob\n",
    "import pandas as pd\n",
    "import matplotlib.pyplot as plt\n",
    "import seaborn as sns\n",
    "from category_encoders import OneHotEncoder\n",
    "from IPython.display import VimeoVideo\n",
    "from ipywidgets import Dropdown, FloatSlider, IntSlider, interact\n",
    "from sklearn.impute import SimpleImputer\n",
    "from sklearn.linear_model import LinearRegression, Ridge  # noqa F401\n",
    "from sklearn.metrics import mean_absolute_error\n",
    "from sklearn.pipeline import make_pipeline\n",
    "from sklearn.utils.validation import check_is_fitted\n",
    "from sklearn.model_selection import train_test_split\n",
    "\n",
    "warnings.simplefilter(action=\"ignore\", category=FutureWarning)"
   ]
  },
  {
   "cell_type": "markdown",
   "metadata": {},
   "source": [
    "For this project, I am going to try to use the price, lat, lon & neighborhood features in this dataset to improve a regression model."
   ]
  },
  {
   "cell_type": "markdown",
   "metadata": {
    "deletable": false,
    "editable": false
   },
   "source": [
    "# Prepare Data"
   ]
  },
  {
   "cell_type": "markdown",
   "metadata": {
    "deletable": false,
    "editable": false
   },
   "source": [
    "## Import"
   ]
  },
  {
   "cell_type": "code",
   "execution_count": 2,
   "metadata": {},
   "outputs": [],
   "source": [
    "df = pd.read_csv(\"properati-real-estate-listings-mexico/data/properati_mx_2016_11_01_properties_sell.csv\", encoding = 'utf8')"
   ]
  },
  {
   "cell_type": "code",
   "execution_count": 3,
   "metadata": {},
   "outputs": [],
   "source": [
    "# Create State and neighborhood columns\n",
    "df[\"state\"] = df[\"place_with_parent_names\"].str.split(\"|\",expand =True)[2]\n",
    "df[\"neighborhood\"] = df[\"place_with_parent_names\"].str.split(\"|\",expand =True)[3]\n",
    "\n",
    "#drop 'place_with_parent_names' column\n",
    "df.drop(columns = \"place_with_parent_names\", inplace = True)"
   ]
  },
  {
   "cell_type": "code",
   "execution_count": 4,
   "metadata": {},
   "outputs": [
    {
     "data": {
      "text/html": [
       "<div>\n",
       "<style scoped>\n",
       "    .dataframe tbody tr th:only-of-type {\n",
       "        vertical-align: middle;\n",
       "    }\n",
       "\n",
       "    .dataframe tbody tr th {\n",
       "        vertical-align: top;\n",
       "    }\n",
       "\n",
       "    .dataframe thead th {\n",
       "        text-align: right;\n",
       "    }\n",
       "</style>\n",
       "<table border=\"1\" class=\"dataframe\">\n",
       "  <thead>\n",
       "    <tr style=\"text-align: right;\">\n",
       "      <th></th>\n",
       "      <th>created_on</th>\n",
       "      <th>operation</th>\n",
       "      <th>property_type</th>\n",
       "      <th>place_name</th>\n",
       "      <th>geonames_id</th>\n",
       "      <th>lat_lon</th>\n",
       "      <th>lat</th>\n",
       "      <th>lon</th>\n",
       "      <th>price</th>\n",
       "      <th>currency</th>\n",
       "      <th>...</th>\n",
       "      <th>floor</th>\n",
       "      <th>rooms</th>\n",
       "      <th>expenses</th>\n",
       "      <th>properati_url</th>\n",
       "      <th>description</th>\n",
       "      <th>title</th>\n",
       "      <th>image_thumbnail</th>\n",
       "      <th>location</th>\n",
       "      <th>state</th>\n",
       "      <th>neighborhood</th>\n",
       "    </tr>\n",
       "  </thead>\n",
       "  <tbody>\n",
       "    <tr>\n",
       "      <th>0</th>\n",
       "      <td>2013-09-19</td>\n",
       "      <td>sell</td>\n",
       "      <td>apartment</td>\n",
       "      <td>Nuevo Centro Urbano</td>\n",
       "      <td>NaN</td>\n",
       "      <td>POINT(-87.076686 20.627527)</td>\n",
       "      <td>20.627527</td>\n",
       "      <td>-87.076686</td>\n",
       "      <td>269000.0</td>\n",
       "      <td>USD</td>\n",
       "      <td>...</td>\n",
       "      <td>NaN</td>\n",
       "      <td>NaN</td>\n",
       "      <td>NaN</td>\n",
       "      <td>http://nuevo-centro-urbano.properati.com.mx/o6...</td>\n",
       "      <td>Referencia #28010. En el centro de Playa del C...</td>\n",
       "      <td>Departamento en Venta. Ref. #28010. 3 Dormitor...</td>\n",
       "      <td>https://thumbs-cf.properati.com/3/q4Ws9xQT8Yu3...</td>\n",
       "      <td>POINT(-87.076686 20.627527)</td>\n",
       "      <td>Quintana Roo</td>\n",
       "      <td>Solidaridad</td>\n",
       "    </tr>\n",
       "    <tr>\n",
       "      <th>1</th>\n",
       "      <td>2013-09-19</td>\n",
       "      <td>sell</td>\n",
       "      <td>apartment</td>\n",
       "      <td>Nuevo Centro Urbano</td>\n",
       "      <td>NaN</td>\n",
       "      <td>POINT(-87.076718 20.627567)</td>\n",
       "      <td>20.627567</td>\n",
       "      <td>-87.076718</td>\n",
       "      <td>230000.0</td>\n",
       "      <td>USD</td>\n",
       "      <td>...</td>\n",
       "      <td>NaN</td>\n",
       "      <td>NaN</td>\n",
       "      <td>NaN</td>\n",
       "      <td>http://nuevo-centro-urbano.properati.com.mx/o8...</td>\n",
       "      <td>Referencia #28925. En el centro de Playa del C...</td>\n",
       "      <td>Departamento en Venta. Ref. #28925. 3 Dormitor...</td>\n",
       "      <td>https://thumbs-cf.properati.com/8/7W4OI5hIXPdY...</td>\n",
       "      <td>POINT(-87.076718 20.627567)</td>\n",
       "      <td>Quintana Roo</td>\n",
       "      <td>Solidaridad</td>\n",
       "    </tr>\n",
       "  </tbody>\n",
       "</table>\n",
       "<p>2 rows × 26 columns</p>\n",
       "</div>"
      ],
      "text/plain": [
       "   created_on operation property_type           place_name  geonames_id  \\\n",
       "0  2013-09-19      sell     apartment  Nuevo Centro Urbano          NaN   \n",
       "1  2013-09-19      sell     apartment  Nuevo Centro Urbano          NaN   \n",
       "\n",
       "                       lat_lon        lat        lon     price currency  ...  \\\n",
       "0  POINT(-87.076686 20.627527)  20.627527 -87.076686  269000.0      USD  ...   \n",
       "1  POINT(-87.076718 20.627567)  20.627567 -87.076718  230000.0      USD  ...   \n",
       "\n",
       "   floor  rooms  expenses                                      properati_url  \\\n",
       "0    NaN    NaN       NaN  http://nuevo-centro-urbano.properati.com.mx/o6...   \n",
       "1    NaN    NaN       NaN  http://nuevo-centro-urbano.properati.com.mx/o8...   \n",
       "\n",
       "                                         description  \\\n",
       "0  Referencia #28010. En el centro de Playa del C...   \n",
       "1  Referencia #28925. En el centro de Playa del C...   \n",
       "\n",
       "                                               title  \\\n",
       "0  Departamento en Venta. Ref. #28010. 3 Dormitor...   \n",
       "1  Departamento en Venta. Ref. #28925. 3 Dormitor...   \n",
       "\n",
       "                                     image_thumbnail  \\\n",
       "0  https://thumbs-cf.properati.com/3/q4Ws9xQT8Yu3...   \n",
       "1  https://thumbs-cf.properati.com/8/7W4OI5hIXPdY...   \n",
       "\n",
       "                      location         state neighborhood  \n",
       "0  POINT(-87.076686 20.627527)  Quintana Roo  Solidaridad  \n",
       "1  POINT(-87.076718 20.627567)  Quintana Roo  Solidaridad  \n",
       "\n",
       "[2 rows x 26 columns]"
      ]
     },
     "execution_count": 4,
     "metadata": {},
     "output_type": "execute_result"
    }
   ],
   "source": [
    "df.head(2)"
   ]
  },
  {
   "cell_type": "code",
   "execution_count": 5,
   "metadata": {},
   "outputs": [],
   "source": [
    "# subset state to Distrito Federal\n",
    "df = df[df[\"state\"] == 'Distrito Federal']"
   ]
  },
  {
   "cell_type": "code",
   "execution_count": 6,
   "metadata": {},
   "outputs": [],
   "source": [
    "# Replace \"\" with NaN's\n",
    "df[\"neighborhood\"] = df[\"neighborhood\"].apply(lambda x:\"NaN\" if x == \"\" else x)"
   ]
  },
  {
   "cell_type": "code",
   "execution_count": 7,
   "metadata": {},
   "outputs": [],
   "source": [
    "# Subset apartment\n",
    "prop_type = df[\"property_type\"].unique()[0]\n",
    "df = df[df[\"property_type\"] == prop_type]\n"
   ]
  },
  {
   "cell_type": "code",
   "execution_count": 8,
   "metadata": {},
   "outputs": [],
   "source": [
    "# subset price to $400,000.00\n",
    "df = df[df[\"price_aprox_usd\"] < 400_000]"
   ]
  },
  {
   "cell_type": "code",
   "execution_count": 9,
   "metadata": {},
   "outputs": [],
   "source": [
    "#Handle outlier: clip lower and higher quantile\n",
    "low, high = df[\"surface_covered_in_m2\"].quantile([0.1, 0.9])\n",
    "df = df[df[\"surface_covered_in_m2\"].between(low, high)]"
   ]
  },
  {
   "cell_type": "markdown",
   "metadata": {
    "deletable": false,
    "editable": false
   },
   "source": [
    "## Explore"
   ]
  },
  {
   "cell_type": "markdown",
   "metadata": {},
   "source": [
    "a point to consider is when trying to use multiple features in df alot of columns contain **missing values**. While missing values can be imputed, there still needs to be enough data in a column to do a good imputation. A general rule is that, if more than half of the data in a column is missing, it's better to drop it than try imputing. "
   ]
  },
  {
   "cell_type": "code",
   "execution_count": 10,
   "metadata": {},
   "outputs": [
    {
     "name": "stdout",
     "output_type": "stream",
     "text": [
      "<class 'pandas.core.frame.DataFrame'>\n",
      "Int64Index: 11199 entries, 74 to 150913\n",
      "Data columns (total 26 columns):\n",
      " #   Column                      Non-Null Count  Dtype  \n",
      "---  ------                      --------------  -----  \n",
      " 0   created_on                  11199 non-null  object \n",
      " 1   operation                   11199 non-null  object \n",
      " 2   property_type               11199 non-null  object \n",
      " 3   place_name                  11199 non-null  object \n",
      " 4   geonames_id                 0 non-null      float64\n",
      " 5   lat_lon                     10487 non-null  object \n",
      " 6   lat                         10487 non-null  float64\n",
      " 7   lon                         10487 non-null  float64\n",
      " 8   price                       11199 non-null  float64\n",
      " 9   currency                    11199 non-null  object \n",
      " 10  price_aprox_local_currency  11199 non-null  float64\n",
      " 11  price_aprox_usd             11199 non-null  float64\n",
      " 12  surface_total_in_m2         1774 non-null   float64\n",
      " 13  surface_covered_in_m2       11199 non-null  float64\n",
      " 14  price_usd_per_m2            1037 non-null   float64\n",
      " 15  price_per_m2                11199 non-null  float64\n",
      " 16  floor                       0 non-null      float64\n",
      " 17  rooms                       58 non-null     float64\n",
      " 18  expenses                    0 non-null      float64\n",
      " 19  properati_url               11199 non-null  object \n",
      " 20  description                 11199 non-null  object \n",
      " 21  title                       11199 non-null  object \n",
      " 22  image_thumbnail             11111 non-null  object \n",
      " 23  location                    10487 non-null  object \n",
      " 24  state                       11199 non-null  object \n",
      " 25  neighborhood                11199 non-null  object \n",
      "dtypes: float64(13), object(13)\n",
      "memory usage: 2.3+ MB\n"
     ]
    }
   ],
   "source": [
    "df.info()"
   ]
  },
  {
   "cell_type": "code",
   "execution_count": 11,
   "metadata": {},
   "outputs": [],
   "source": [
    "def flag_columns(df):\n",
    "    \"\"\"\n",
    "    This function compiles a list of columns having less than 50% non null values \n",
    "    compared with a column with 100% non null values\n",
    "    \"\"\"\n",
    "    index_column = df['operation'].count()\n",
    "    flagged_columns = []\n",
    "    for column in df.columns:\n",
    "        non_null_count = df[column].count()\n",
    "        percentage = non_null_count / index_column\n",
    "        \n",
    "        if percentage < 0.5:\n",
    "            flagged_columns.append(column)\n",
    "            \n",
    "    return flagged_columns"
   ]
  },
  {
   "cell_type": "code",
   "execution_count": 12,
   "metadata": {},
   "outputs": [],
   "source": [
    "columns_drop = flag_columns(df)"
   ]
  },
  {
   "cell_type": "code",
   "execution_count": 13,
   "metadata": {},
   "outputs": [
    {
     "data": {
      "text/plain": [
       "['geonames_id',\n",
       " 'surface_total_in_m2',\n",
       " 'price_usd_per_m2',\n",
       " 'floor',\n",
       " 'rooms',\n",
       " 'expenses']"
      ]
     },
     "execution_count": 13,
     "metadata": {},
     "output_type": "execute_result"
    }
   ],
   "source": [
    "columns_drop"
   ]
  },
  {
   "cell_type": "code",
   "execution_count": 14,
   "metadata": {},
   "outputs": [],
   "source": [
    "df.drop(columns = columns_drop, inplace = True)"
   ]
  },
  {
   "cell_type": "markdown",
   "metadata": {},
   "source": [
    "The next thing to look out for are **low or high cardinality** in categorical columns. If there's only one category in a column or two, it won't provide any unique information to the model. At the other extreme, columns where nearly every row has its own category won't help the model in identifying useful trends in the data either."
   ]
  },
  {
   "cell_type": "code",
   "execution_count": 15,
   "metadata": {
    "deletable": false
   },
   "outputs": [],
   "source": [
    "def identify_cardinality(df):\n",
    "    cols_list = []\n",
    "    \n",
    "    for col in df.columns:\n",
    "        if df[col].dtype == \"object\":\n",
    "            unique_values = df[col].unique()\n",
    "            #low cardinality columns\n",
    "            if len(unique_values) <= 2:\n",
    "                cols_list.append(col)\n",
    "            #high cardinality columns\n",
    "            elif len(unique_values) == len(df[col]):\n",
    "                cols_list.append(col)\n",
    "    return cols_list"
   ]
  },
  {
   "cell_type": "code",
   "execution_count": 16,
   "metadata": {},
   "outputs": [],
   "source": [
    "# These columns gives additional information about property\n",
    "informative_cols = [\"description\",\"created_on\",\"place_name\",\"title\",\"image_thumbnail\",\"lat_lon\",\"location\"]"
   ]
  },
  {
   "cell_type": "code",
   "execution_count": 17,
   "metadata": {},
   "outputs": [
    {
     "name": "stdout",
     "output_type": "stream",
     "text": [
      "delete these columns with high and low cardinality: ['operation', 'property_type', 'currency', 'properati_url', 'state']\n"
     ]
    }
   ],
   "source": [
    "cardinality = identify_cardinality(df)\n",
    "print(f\"delete these columns with high and low cardinality: {cardinality}\")"
   ]
  },
  {
   "cell_type": "code",
   "execution_count": 18,
   "metadata": {},
   "outputs": [],
   "source": [
    "df.drop(columns = cardinality, inplace = True)"
   ]
  },
  {
   "cell_type": "code",
   "execution_count": 19,
   "metadata": {},
   "outputs": [],
   "source": [
    "df.drop(columns = informative_cols, inplace = True)"
   ]
  },
  {
   "cell_type": "markdown",
   "metadata": {},
   "source": [
    "Here, columns like **operation** have only one value in them, while every row in **properati_url** has a unique value. These are clear examples of high- and low-cardinality features that shouldn't be included in the model."
   ]
  },
  {
   "cell_type": "markdown",
   "metadata": {},
   "source": [
    "It is important to drop any columns that would constitute **leakage**, that is, features that were created using our target or that would give our model information that it won't have access to when it's deployed. "
   ]
  },
  {
   "cell_type": "code",
   "execution_count": 20,
   "metadata": {},
   "outputs": [
    {
     "name": "stdout",
     "output_type": "stream",
     "text": [
      "['price', 'price_aprox_local_currency', 'price_per_m2']\n"
     ]
    }
   ],
   "source": [
    "#remove leaky columns that will influence the model, keep only price aprox usd\n",
    "leaks = []\n",
    "for i in df.columns:\n",
    "    if \"price\" in i:\n",
    "        leaks.append(i)\n",
    "leaks.remove(\"price_aprox_usd\")\n",
    "print(leaks)"
   ]
  },
  {
   "cell_type": "code",
   "execution_count": 21,
   "metadata": {},
   "outputs": [],
   "source": [
    "df.drop(columns = leaks, inplace = True)"
   ]
  },
  {
   "cell_type": "code",
   "execution_count": 22,
   "metadata": {},
   "outputs": [
    {
     "data": {
      "text/html": [
       "<div>\n",
       "<style scoped>\n",
       "    .dataframe tbody tr th:only-of-type {\n",
       "        vertical-align: middle;\n",
       "    }\n",
       "\n",
       "    .dataframe tbody tr th {\n",
       "        vertical-align: top;\n",
       "    }\n",
       "\n",
       "    .dataframe thead th {\n",
       "        text-align: right;\n",
       "    }\n",
       "</style>\n",
       "<table border=\"1\" class=\"dataframe\">\n",
       "  <thead>\n",
       "    <tr style=\"text-align: right;\">\n",
       "      <th></th>\n",
       "      <th>lat</th>\n",
       "      <th>lon</th>\n",
       "      <th>price_aprox_usd</th>\n",
       "      <th>surface_covered_in_m2</th>\n",
       "      <th>neighborhood</th>\n",
       "    </tr>\n",
       "  </thead>\n",
       "  <tbody>\n",
       "    <tr>\n",
       "      <th>74</th>\n",
       "      <td>19.415010</td>\n",
       "      <td>-99.175174</td>\n",
       "      <td>146154.51</td>\n",
       "      <td>61.0</td>\n",
       "      <td>Cuauhtémoc</td>\n",
       "    </tr>\n",
       "    <tr>\n",
       "      <th>98</th>\n",
       "      <td>19.456564</td>\n",
       "      <td>-99.191724</td>\n",
       "      <td>36267.97</td>\n",
       "      <td>65.0</td>\n",
       "      <td>Miguel Hidalgo</td>\n",
       "    </tr>\n",
       "    <tr>\n",
       "      <th>106</th>\n",
       "      <td>19.512787</td>\n",
       "      <td>-99.141393</td>\n",
       "      <td>75783.82</td>\n",
       "      <td>70.0</td>\n",
       "      <td>Gustavo A. Madero</td>\n",
       "    </tr>\n",
       "    <tr>\n",
       "      <th>110</th>\n",
       "      <td>19.362370</td>\n",
       "      <td>-99.143951</td>\n",
       "      <td>92023.21</td>\n",
       "      <td>70.0</td>\n",
       "      <td>Benito Juárez</td>\n",
       "    </tr>\n",
       "    <tr>\n",
       "      <th>113</th>\n",
       "      <td>19.246470</td>\n",
       "      <td>-99.101350</td>\n",
       "      <td>94459.12</td>\n",
       "      <td>74.0</td>\n",
       "      <td>Xochimilco</td>\n",
       "    </tr>\n",
       "  </tbody>\n",
       "</table>\n",
       "</div>"
      ],
      "text/plain": [
       "           lat        lon  price_aprox_usd  surface_covered_in_m2  \\\n",
       "74   19.415010 -99.175174        146154.51                   61.0   \n",
       "98   19.456564 -99.191724         36267.97                   65.0   \n",
       "106  19.512787 -99.141393         75783.82                   70.0   \n",
       "110  19.362370 -99.143951         92023.21                   70.0   \n",
       "113  19.246470 -99.101350         94459.12                   74.0   \n",
       "\n",
       "          neighborhood  \n",
       "74          Cuauhtémoc  \n",
       "98      Miguel Hidalgo  \n",
       "106  Gustavo A. Madero  \n",
       "110      Benito Juárez  \n",
       "113         Xochimilco  "
      ]
     },
     "execution_count": 22,
     "metadata": {},
     "output_type": "execute_result"
    }
   ],
   "source": [
    "df.head()"
   ]
  },
  {
   "cell_type": "code",
   "execution_count": 23,
   "metadata": {
    "deletable": false
   },
   "outputs": [
    {
     "data": {
      "text/html": [
       "<div>\n",
       "<style scoped>\n",
       "    .dataframe tbody tr th:only-of-type {\n",
       "        vertical-align: middle;\n",
       "    }\n",
       "\n",
       "    .dataframe tbody tr th {\n",
       "        vertical-align: top;\n",
       "    }\n",
       "\n",
       "    .dataframe thead th {\n",
       "        text-align: right;\n",
       "    }\n",
       "</style>\n",
       "<table border=\"1\" class=\"dataframe\">\n",
       "  <thead>\n",
       "    <tr style=\"text-align: right;\">\n",
       "      <th></th>\n",
       "      <th>lat</th>\n",
       "      <th>lon</th>\n",
       "      <th>surface_covered_in_m2</th>\n",
       "    </tr>\n",
       "  </thead>\n",
       "  <tbody>\n",
       "    <tr>\n",
       "      <th>lat</th>\n",
       "      <td>1.000000</td>\n",
       "      <td>-0.938393</td>\n",
       "      <td>-0.018464</td>\n",
       "    </tr>\n",
       "    <tr>\n",
       "      <th>lon</th>\n",
       "      <td>-0.938393</td>\n",
       "      <td>1.000000</td>\n",
       "      <td>-0.020478</td>\n",
       "    </tr>\n",
       "    <tr>\n",
       "      <th>surface_covered_in_m2</th>\n",
       "      <td>-0.018464</td>\n",
       "      <td>-0.020478</td>\n",
       "      <td>1.000000</td>\n",
       "    </tr>\n",
       "  </tbody>\n",
       "</table>\n",
       "</div>"
      ],
      "text/plain": [
       "                            lat       lon  surface_covered_in_m2\n",
       "lat                    1.000000 -0.938393              -0.018464\n",
       "lon                   -0.938393  1.000000              -0.020478\n",
       "surface_covered_in_m2 -0.018464 -0.020478               1.000000"
      ]
     },
     "execution_count": 23,
     "metadata": {},
     "output_type": "execute_result"
    }
   ],
   "source": [
    "corr = df.select_dtypes(\"number\").drop(columns=\"price_aprox_usd\").corr()\n",
    "corr"
   ]
  },
  {
   "cell_type": "code",
   "execution_count": 24,
   "metadata": {},
   "outputs": [
    {
     "data": {
      "image/png": "[encoded data removed]",
      "text/plain": [
       "<Figure size 432x288 with 2 Axes>"
      ]
     },
     "metadata": {
      "needs_background": "light"
     },
     "output_type": "display_data"
    }
   ],
   "source": [
    "sns.heatmap(corr);"
   ]
  },
  {
   "cell_type": "markdown",
   "metadata": {
    "deletable": false,
    "editable": false
   },
   "source": [
    "## Split Data"
   ]
  },
  {
   "cell_type": "code",
   "execution_count": 25,
   "metadata": {
    "deletable": false
   },
   "outputs": [],
   "source": [
    "target = \"price_aprox_usd\"\n",
    "feature = ['surface_covered_in_m2', 'lat', 'lon', 'neighborhood']\n",
    "\n",
    "\n",
    "X = df[feature]\n",
    "y = df[target]"
   ]
  },
  {
   "cell_type": "code",
   "execution_count": 26,
   "metadata": {},
   "outputs": [],
   "source": [
    "X_train, X_test, y_train, y_test = train_test_split(X,y,test_size = 0.2,random_state = 42)"
   ]
  },
  {
   "cell_type": "markdown",
   "metadata": {
    "deletable": false,
    "editable": false
   },
   "source": [
    "# Build Model"
   ]
  },
  {
   "cell_type": "markdown",
   "metadata": {
    "deletable": false,
    "editable": false
   },
   "source": [
    "## Baseline"
   ]
  },
  {
   "cell_type": "code",
   "execution_count": 27,
   "metadata": {
    "deletable": false
   },
   "outputs": [
    {
     "name": "stdout",
     "output_type": "stream",
     "text": [
      "Mean apt price: 103062.61\n",
      "Baseline MAE: 58121.57\n"
     ]
    }
   ],
   "source": [
    "y_mean = y_train.mean()\n",
    "print(\"Mean apt price:\", y_mean.round(2))\n",
    "y_pred_baseline = [y_mean] * len(y_train)\n",
    "mae_baseline = mean_absolute_error(y_train, y_pred_baseline)\n",
    "print(\"Baseline MAE:\", mae_baseline.round(2))"
   ]
  },
  {
   "cell_type": "markdown",
   "metadata": {
    "deletable": false,
    "editable": false
   },
   "source": [
    "## Iterate"
   ]
  },
  {
   "cell_type": "code",
   "execution_count": 28,
   "metadata": {
    "deletable": false
   },
   "outputs": [],
   "source": [
    "model = make_pipeline(\n",
    "    OneHotEncoder(),\n",
    "    SimpleImputer(),\n",
    "    Ridge()\n",
    ")\n"
   ]
  },
  {
   "cell_type": "code",
   "execution_count": 29,
   "metadata": {},
   "outputs": [
    {
     "data": {
      "text/plain": [
       "Pipeline(memory=None,\n",
       "         steps=[('onehotencoder',\n",
       "                 OneHotEncoder(cols=['neighborhood'], drop_invariant=False,\n",
       "                               handle_missing='value', handle_unknown='value',\n",
       "                               return_df=True, use_cat_names=False,\n",
       "                               verbose=0)),\n",
       "                ('simpleimputer',\n",
       "                 SimpleImputer(add_indicator=False, copy=True, fill_value=None,\n",
       "                               missing_values=nan, strategy='mean',\n",
       "                               verbose=0)),\n",
       "                ('ridge',\n",
       "                 Ridge(alpha=1.0, copy_X=True, fit_intercept=True,\n",
       "                       max_iter=None, normalize=False, random_state=None,\n",
       "                       solver='auto', tol=0.001))],\n",
       "         verbose=False)"
      ]
     },
     "execution_count": 29,
     "metadata": {},
     "output_type": "execute_result"
    }
   ],
   "source": [
    "model.fit(X_train,y_train)"
   ]
  },
  {
   "cell_type": "code",
   "execution_count": 30,
   "metadata": {},
   "outputs": [
    {
     "data": {
      "text/plain": [
       "0.37003515702637335"
      ]
     },
     "execution_count": 30,
     "metadata": {},
     "output_type": "execute_result"
    }
   ],
   "source": [
    "model.score(X_test,y_test)"
   ]
  },
  {
   "cell_type": "markdown",
   "metadata": {
    "deletable": false,
    "editable": false
   },
   "source": [
    "## Evaluate"
   ]
  },
  {
   "cell_type": "code",
   "execution_count": 31,
   "metadata": {
    "deletable": false
   },
   "outputs": [
    {
     "name": "stdout",
     "output_type": "stream",
     "text": [
      "Training MAE: 42716.28789325744\n"
     ]
    }
   ],
   "source": [
    "y_pred_training = model.predict(X_train)\n",
    "print(\"Training MAE:\", mean_absolute_error(y_train,y_pred_training))"
   ]
  },
  {
   "cell_type": "code",
   "execution_count": 32,
   "metadata": {},
   "outputs": [],
   "source": [
    "def make_prediction(area, lat, lon, neighborhood):\n",
    "    data = {\n",
    "        \"surface_covered_in_m2\": area,\n",
    "        \"lat\": lat,\n",
    "        \"lon\":lon,\n",
    "        \"neighborhood\": neighborhood\n",
    "    }\n",
    "    df = pd.DataFrame(data, index = [0])\n",
    "    prediction = model.predict(df).round(2)[0]\n",
    "    return f\"Predicted apartment price is {prediction}\""
   ]
  },
  {
   "cell_type": "code",
   "execution_count": 33,
   "metadata": {},
   "outputs": [
    {
     "data": {
      "text/plain": [
       "'Predicted apartment price is 49612.59'"
      ]
     },
     "execution_count": 33,
     "metadata": {},
     "output_type": "execute_result"
    }
   ],
   "source": [
    "make_prediction(55,19,-99,\"Solidaridad\")"
   ]
  },
  {
   "cell_type": "code",
   "execution_count": 34,
   "metadata": {},
   "outputs": [
    {
     "data": {
      "text/plain": [
       "0    133414.268908\n",
       "1    125808.187607\n",
       "2    142552.519613\n",
       "3     92655.809562\n",
       "4     55417.626658\n",
       "dtype: float64"
      ]
     },
     "execution_count": 34,
     "metadata": {},
     "output_type": "execute_result"
    }
   ],
   "source": [
    "y_pred_test = pd.Series(model.predict(X_test))\n",
    "y_pred_test.head()"
   ]
  },
  {
   "cell_type": "markdown",
   "metadata": {
    "deletable": false,
    "editable": false
   },
   "source": [
    "# Communicate Results"
   ]
  },
  {
   "cell_type": "code",
   "execution_count": 35,
   "metadata": {
    "deletable": false
   },
   "outputs": [
    {
     "data": {
      "application/vnd.jupyter.widget-view+json": {
       "model_id": "ae6ba7ceb5fa419f939355aab5d06bca",
       "version_major": 2,
       "version_minor": 0
      },
      "text/plain": [
       "interactive(children=(IntSlider(value=76, description='area', max=127, min=50), FloatSlider(value=19.481224935…"
      ]
     },
     "metadata": {},
     "output_type": "display_data"
    }
   ],
   "source": [
    "interact(\n",
    "    make_prediction,\n",
    "    area=IntSlider(\n",
    "        min=X_train[\"surface_covered_in_m2\"].min(),\n",
    "        max=X_train[\"surface_covered_in_m2\"].max(),\n",
    "        value=X_train[\"surface_covered_in_m2\"].mean(),\n",
    "    ),\n",
    "    lat=FloatSlider(\n",
    "        min=X_train[\"lat\"].min(),\n",
    "        max=X_train[\"lat\"].max(),\n",
    "        step=0.01,\n",
    "        value=X_train[\"lat\"].mean(),\n",
    "    ),\n",
    "    lon=FloatSlider(\n",
    "        min=X_train[\"lon\"].min(),\n",
    "        max=X_train[\"lon\"].max(),\n",
    "        step=0.01,\n",
    "        value=X_train[\"lon\"].mean(),\n",
    "    ),\n",
    "    neighborhood=Dropdown(options=sorted(X_train[\"neighborhood\"].unique())),\n",
    ");"
   ]
  },
  {
   "cell_type": "code",
   "execution_count": null,
   "metadata": {},
   "outputs": [],
   "source": []
  }
 ],
 "metadata": {
  "kernelspec": {
   "display_name": "Python 3",
   "language": "python",
   "name": "python3"
  },
  "language_info": {
   "codemirror_mode": {
    "name": "ipython",
    "version": 3
   },
   "file_extension": ".py",
   "mimetype": "text/x-python",
   "name": "python",
   "nbconvert_exporter": "python",
   "pygments_lexer": "ipython3",
   "version": "3.7.4"
  },
  "vscode": {
   "interpreter": {
    "hash": "1aa838312b528b31b4c7961d29e363799be244ea5d189daeb964016c6fd343fc"
   }
  }
 },
 "nbformat": 4,
 "nbformat_minor": 5
}
